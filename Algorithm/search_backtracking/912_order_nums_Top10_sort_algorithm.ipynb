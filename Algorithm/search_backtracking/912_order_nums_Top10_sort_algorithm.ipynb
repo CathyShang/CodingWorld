{
 "cells": [
  {
   "cell_type": "markdown",
   "metadata": {},
   "source": [
    "# 十大排序算法\n",
    "- 快速排序 2022.01.02-01.03\n",
    "- 堆排序 2022.01.04\n",
    "- 归并排序 2022.01.05\n",
    "- 插入排序 2022.01.06\n",
    "- 选择排序 2022.01.06\n",
    "- 希尔排序 2022.01.06\n",
    "- 一轮复习 2022.01.07"
   ]
  },
  {
   "cell_type": "markdown",
   "metadata": {},
   "source": [
    "### 说明\n",
    "- 在面试过程中可能会让您手撕排序\n",
    "- 数据结构要求 数组与链表\n",
    "- 推荐使用快速排序，其他需要掌握的是归并排序、冒泡、选择、插入等平方时间复杂度的\n",
    "\n",
    "### 题目\n",
    "- [912.排序数组](https://leetcode-cn.com/problems/sort-an-array/submissions/)  [我的题解](https://leetcode-cn.com/problems/sort-an-array/solution/912shu-zu-pai-xu-by-shangcy-viqu/)\n",
    "- [148.排序链表](https://leetcode-cn.com/problems/sort-list/)\n",
    "\n",
    "### 命题\n",
    "没有任何基于比较的算法能够保证使用少于$lg(N!)$~$NlogN$次比较将长度为$N$的数组排序。(在设计时最佳效果P177 《算法Algorithms》)\n",
    "\n",
    "### 性质\n",
    "快速排序是最快的通用排序算法。(P219 《算法Algorithms》)"
   ]
  },
  {
   "cell_type": "raw",
   "metadata": {},
   "source": [
    "关注算法细节，不稳定性的思考\n",
    "不稳定是指在最坏运行情况下$N^2$"
   ]
  },
  {
   "cell_type": "markdown",
   "metadata": {},
   "source": [
    "### 优缺点 "
   ]
  },
  {
   "cell_type": "markdown",
   "metadata": {},
   "source": [
    "参考算法 P218"
   ]
  },
  {
   "cell_type": "raw",
   "metadata": {},
   "source": [
    "观察点\n",
    "递归是否发生在调用数组之前？\n",
    "注意递归的写法，易错点"
   ]
  },
  {
   "cell_type": "markdown",
   "metadata": {},
   "source": [
    "# 912.排序数组 "
   ]
  },
  {
   "cell_type": "markdown",
   "metadata": {},
   "source": [
    "## 快速排序 "
   ]
  },
  {
   "cell_type": "raw",
   "metadata": {},
   "source": [
    "核心思想： 哨兵 切分， 递归\n",
    "随机选取一个元素作为哨兵v, 双指针遍历剩下部分，让左侧的数值小于v，右侧的数值大于v。\n",
    "本质是通过**递归调用切分来进行排序**。\n",
    "不是稳定的，是一种原地排序。"
   ]
  },
  {
   "cell_type": "code",
   "execution_count": null,
   "metadata": {},
   "outputs": [],
   "source": [
    "import random\n",
    "class Solution:\n",
    "    def sortArray(self, nums: List[int]) -> List[int]:\n",
    "        random.shuffle(nums)\n",
    "        # print(nums)\n",
    "        n = len(nums)\n",
    "        # 快速排序的切分\n",
    "        def partition(lo, hi):\n",
    "            i, j = lo+1, hi\n",
    "            v = nums[lo]\n",
    "            while 1:\n",
    "                while nums[i]<v:\n",
    "                    if i==hi: break\n",
    "                    i += 1\n",
    "                while nums[j]>v:\n",
    "                    if j==lo: break\n",
    "                    j -= 1\n",
    "                if i>=j: break\n",
    "                nums[i],nums[j] = nums[j],nums[i] # 当nums[i]的比v大 且 nums[j]的比v小\n",
    "            nums[lo],nums[j] = nums[j],nums[lo]\n",
    "            # print('partition_nums',nums)\n",
    "            return j\n",
    "        def quick_sort(lo, hi):\n",
    "            if lo < hi:\n",
    "                mid = partition(lo, hi)\n",
    "                # print(mid)\n",
    "                quick_sort(lo, mid-1)\n",
    "                quick_sort(mid+1, hi)\n",
    "        quick_sort(0, n-1)\n",
    "        # print(partition(0,n-1))\n",
    "        return nums\n",
    "# 该部分LC运行超时，需要优化，但是思想差不多啦！"
   ]
  },
  {
   "cell_type": "raw",
   "metadata": {},
   "source": [
    "使用快慢指针的快速排序，进行优化，参考：\n",
    "https://leetcode-cn.com/problems/sort-an-array/solution/912-pai-xu-shu-zu-ji-chu-pai-xu-suan-fa-1qt5f/"
   ]
  },
  {
   "cell_type": "markdown",
   "metadata": {},
   "source": [
    "#### 快速排序的思想使用调用切分从而达到排序结果\n",
    "1. 随机选择一个哨兵pivot，并将其放于数组左侧nums[lo]位置，希望将大于pivot放于数组右侧，小于pivot元素放于数组左侧\n",
    "2. 初始化快慢指针i，j = lo，lo+1\n",
    "3. j<=hi进入循环：\n",
    "    - 如果比基准小，nums[i+1]与nums[j]交换位置\n",
    "    - 每次循环j+1\n",
    "4. 循环结束，i指向位置为最后一个小于pivot的位置，进行nums[lo]与nums[i]交换，完成一次切分\n",
    "5. 返回 i 也就是pivot的位置索引\n",
    "\n",
    "排序递归调用\n",
    "1. 调用partition函数，获取mid\n",
    "2. 分布对区间[lo,mid-1] [mid+1,hi]进行切分操作，切到最小就是排序。"
   ]
  },
  {
   "cell_type": "code",
   "execution_count": null,
   "metadata": {},
   "outputs": [],
   "source": [
    "import random\n",
    "class Solution:\n",
    "    def sortArray(self, nums: List[int]) -> List[int]:\n",
    "        def partition(lo, hi):\n",
    "            pivot = random.randint(lo, hi)\n",
    "            nums[lo], nums[pivot] = nums[pivot], nums[lo]\n",
    "            i,j = lo, lo+1\n",
    "            while j<=hi:\n",
    "                if nums[j]<nums[lo]:\n",
    "                    nums[i+1],nums[j] = nums[j], nums[i+1]\n",
    "                    i += 1\n",
    "                j +=1 \n",
    "            nums[i],nums[lo] = nums[lo],nums[i]\n",
    "            return i\n",
    "            \n",
    "        def quick_sort(low, high):\n",
    "            if low < high:\n",
    "                mid = partition(low, high)\n",
    "                quick_sort(low, mid - 1)\n",
    "                quick_sort(mid + 1, high)\n",
    "        \n",
    "        quick_sort(0, len(nums) - 1)\n",
    "        return nums"
   ]
  },
  {
   "cell_type": "raw",
   "metadata": {},
   "source": [
    "执行用时：484 ms, 在所有 Python3 提交中击败了27.16%的用户\n",
    "内存消耗：22.7 MB, 在所有 Python3 提交中击败了7.35%的用户\n",
    "通过测试用例：13 / 13"
   ]
  },
  {
   "cell_type": "raw",
   "metadata": {},
   "source": [
    "编写时候在写切分程序的时候，将lo 用 常数0表示 例如，i,j=0,1 ，不利于后期递归导致测试时报错。"
   ]
  },
  {
   "cell_type": "code",
   "execution_count": null,
   "metadata": {},
   "outputs": [],
   "source": [
    "import random\n",
    "class Solution:\n",
    "    def sortArray(self, nums: List[int]) -> List[int]: \n",
    "        self.quick_sort(nums,0,len(nums)-1)\n",
    "        return nums\n",
    "    # 2022-01-07 复习\n",
    "    def partirion(self, nums, lo, hi):\n",
    "        pivot = random.randint(lo, hi)\n",
    "        # print(pivot)          \n",
    "        nums[lo],nums[pivot] = nums[pivot],nums[lo]\n",
    "        i, j = lo, lo + 1\n",
    "        while j<=hi:\n",
    "            if nums[j]<nums[lo]:\n",
    "                nums[i+1],nums[j] = nums[j],nums[i+1]\n",
    "                i += 1\n",
    "            j += 1\n",
    "        nums[i], nums[lo] = nums[lo], nums[i]\n",
    "        # print(i)\n",
    "        return i\n",
    "    def quick_sort(self,nums,lo,hi):\n",
    "        if lo<hi:\n",
    "            mid = self.partirion(nums,lo,hi)\n",
    "            self.quick_sort(nums,lo, mid-1)\n",
    "            self.quick_sort(nums,mid+1,hi)"
   ]
  },
  {
   "cell_type": "raw",
   "metadata": {},
   "source": [
    "执行用时：480 ms, 在所有 Python3 提交中击败了28.34%的用户\n",
    "内存消耗：19.8 MB, 在所有 Python3 提交中击败了89.46%的用户\n",
    "通过测试用例：13 / 13"
   ]
  },
  {
   "cell_type": "markdown",
   "metadata": {},
   "source": [
    "- 时间复杂度 $O(NlogN)$\n",
    "- 空间复杂度 $O(logN)$ 递归过程恰好每次切分中间"
   ]
  },
  {
   "cell_type": "markdown",
   "metadata": {},
   "source": [
    "## 堆排序 "
   ]
  },
  {
   "cell_type": "raw",
   "metadata": {},
   "source": [
    "核心操作：上浮swim 下沉sink，对于简单排序只需要下沉操作\n",
    "1. 构造最大堆（大顶堆）\n",
    "2. 将最后一个元素与堆顶进行交换，随后进行下沉操作\n",
    "\n",
    "写了3遍，终于成功AC!!!(2022-01-07)"
   ]
  },
  {
   "cell_type": "markdown",
   "metadata": {},
   "source": [
    "注意点：用数组存储完全二叉树结点索引规律`n//2-1`,`2*i+1`\n",
    "下沉的操作函数输入参数，`i -= 1 # 注意该语句位置`"
   ]
  },
  {
   "cell_type": "markdown",
   "metadata": {},
   "source": [
    "#### 简单堆排序\n",
    "1. 构建堆 对于完全二叉树而言，最后一个非叶子结点n//2-1，因为只有对于非叶子结点才有下沉操作的必要，结点索引[0....,n//2-1]\n",
    "2. 进行排序 最后一个元素与堆顶元素交换，取出最大元素（交换后的最后一个元素），堆顶元素进行下沉操作，目的是找到下一个最大值，重复此操作直到遍历完堆中所有元素\n",
    "\n",
    "下沉操作\n",
    "1. 输入 元素索引（父结点），以及堆的索引界限\n",
    "2. 查看其子结点，若左右子结点都存在，则指向那个最大的子结点\n",
    "3. 比较父结点与子结点值大小，若父结点小，进行下沉操作\n",
    "4. 若父结点大，结束该索引的循环"
   ]
  },
  {
   "cell_type": "code",
   "execution_count": null,
   "metadata": {},
   "outputs": [],
   "source": [
    "class Solution:\n",
    "    def sortArray(self, nums: List[int]) -> List[int]:\n",
    "        ## 堆排序\n",
    "        n = len(nums)\n",
    "        # 堆有序\n",
    "        for i in range(n//2-1,-1,-1):\n",
    "            self.sink(nums,i, n-1)\n",
    "        # 目前堆顶是最大的元素\n",
    "        i = n-1\n",
    "        while i>0:\n",
    "            nums[i],nums[0] = nums[0],nums[i]\n",
    "            i -= 1 # 注意该语句位置\n",
    "            self.sink(nums,0,i)           \n",
    "        return nums\n",
    "    # 下沉的操作\n",
    "    def sink(self, nums, i, end):\n",
    "        while 2*i+1<=end:\n",
    "            child = 2*i + 1 # 完全二叉树i的左子结点\n",
    "            if child != end and nums[child]<nums[child+1]:\n",
    "                child += 1 # child指向那个i的最大子结点\n",
    "            if nums[i]<nums[child]:\n",
    "                nums[i],nums[child] = nums[child], nums[i]\n",
    "                i = child # 更新i\n",
    "            else:\n",
    "                break"
   ]
  },
  {
   "cell_type": "raw",
   "metadata": {},
   "source": [
    "执行用时：600 ms, 在所有 Python3 提交中击败了15.88%的用户\n",
    "内存消耗：19.9 MB, 在所有 Python3 提交中击败了77.64%的用户\n",
    "通过测试用例：13 / 13"
   ]
  },
  {
   "cell_type": "code",
   "execution_count": null,
   "metadata": {},
   "outputs": [],
   "source": [
    "class Solution:\n",
    "    def sortArray(self, nums: List[int]) -> List[int]:\n",
    "        # 堆排序\n",
    "        n = len(nums)\n",
    "        for i in range(n//2-1, -1, -1):\n",
    "            self.sink(nums, i, n-1)\n",
    "        \n",
    "        i = n-1\n",
    "        while i>0:\n",
    "            nums[i],nums[0] = nums[0],nums[i]\n",
    "            i -= 1 # !!! 易错点\n",
    "            self.sink(nums, 0, i)\n",
    "        return nums\n",
    "\n",
    "    def sink(self, nums, i, end): # 结点i作为父结点，是否与它的子结点进行交换\n",
    "        while 2*i+1<=end:\n",
    "            child = 2*i+1\n",
    "            if child!=end and nums[child]<nums[child+1]:\n",
    "                child += 1\n",
    "            if nums[i]<nums[child]:\n",
    "                nums[i],nums[child]=nums[child],nums[i]\n",
    "            i = child"
   ]
  },
  {
   "cell_type": "raw",
   "metadata": {},
   "source": [
    "执行用时：584 ms, 在所有 Python3 提交中击败了16.87%的用户\n",
    "内存消耗：19.8 MB, 在所有 Python3 提交中击败了93.40%的用户\n",
    "通过测试用例：13 / 13"
   ]
  },
  {
   "cell_type": "markdown",
   "metadata": {},
   "source": [
    "- 时间复杂度 $O(NlogN)$\n",
    "- 空间复杂度 $O(1)$ 还没懂"
   ]
  },
  {
   "cell_type": "markdown",
   "metadata": {},
   "source": [
    "## 归并排序 "
   ]
  },
  {
   "cell_type": "markdown",
   "metadata": {},
   "source": [
    "#### “分而治之”的思想\n",
    "\n",
    "mergeSort\n",
    "1. **将数据nums分成左右两份，分别进行排序**\n",
    "2. 将已经排序的左右部分合并\n",
    "\n",
    "mergeTwoArrays\n",
    "1. 建立临时数组temp\n",
    "2. 进入循环，分别从两个数组片段头开始遍历，合并加到temp\n",
    "3. 两个数组片段不一定等长，因此在循环完成之后将剩余值添加到temp\n",
    "4. 将temp依次替换原来nums中对应的位置\n",
    "\n",
    "归并排序是稳定排序，但是需要调用辅助空间"
   ]
  },
  {
   "cell_type": "code",
   "execution_count": null,
   "metadata": {},
   "outputs": [],
   "source": [
    "class Solution:\n",
    "    def sortArray(self, nums: List[int]) -> List[int]:\n",
    "        # 归并排序\n",
    "        self.mergeSort(nums,0, len(nums)-1)\n",
    "        return nums\n",
    "\n",
    "    def mergeSort(self,nums, lo, hi):\n",
    "        if lo<hi:\n",
    "            mid = (lo+hi)//2\n",
    "            self.mergeSort(nums,lo,mid)\n",
    "            self.mergeSort(nums, mid+1, hi)\n",
    "            self.mergeTwoArrays(nums,lo,mid,hi)\n",
    "        \n",
    "    def mergeTwoArrays(self,nums, lo, mid, hi):\n",
    "        temp = [0]*(hi-lo+1)\n",
    "        i, j, k = lo, mid+1, 0 #左右部分头指针，temp头部\n",
    "        # 合并两个数组\n",
    "        while i <= mid and j <= hi:\n",
    "            # print(i,j)\n",
    "            if nums[i]<nums[j]:\n",
    "                temp[k] = nums[i]\n",
    "                i += 1\n",
    "            else:\n",
    "                temp[k] = nums[j]\n",
    "                j += 1\n",
    "            k += 1\n",
    "        while i<=mid:\n",
    "            temp[k] = nums[i]\n",
    "            k += 1\n",
    "            i += 1\n",
    "        while j <= hi:\n",
    "            temp[k] = nums[j]\n",
    "            k += 1\n",
    "            j += 1\n",
    "        # 替换原本nums中的元素\n",
    "        for i in range(k):\n",
    "            nums[lo+i] = temp[i]"
   ]
  },
  {
   "cell_type": "raw",
   "metadata": {},
   "source": [
    "执行用时：520 ms, 在所有 Python3 提交中击败了21.77%的用户\n",
    "内存消耗：19.9 MB, 在所有 Python3 提交中击败了74.38%的用户\n",
    "通过测试用例：13 / 13"
   ]
  },
  {
   "cell_type": "code",
   "execution_count": null,
   "metadata": {},
   "outputs": [],
   "source": [
    "class Solution:\n",
    "    def sortArray(self, nums: List[int]) -> List[int]:\n",
    "        self.merge(nums,0,len(nums)-1)\n",
    "        return nums\n",
    "\n",
    "    def merageTwo(self, nums, lo, hi):\n",
    "        n = hi-lo+1\n",
    "        mid = (hi+lo)//2\n",
    "        temp = [0]*n\n",
    "        i,j,k = lo, mid+1,0\n",
    "        while i<=mid and j<=hi:\n",
    "            if nums[i]<nums[j]:\n",
    "                temp[k] = nums[i]\n",
    "                i += 1\n",
    "            else:\n",
    "                temp[k] = nums[j]\n",
    "                j += 1\n",
    "            k += 1\n",
    "        while i<=mid:\n",
    "            temp[k] = nums[i]\n",
    "            i += 1\n",
    "            k += 1\n",
    "        while j<=hi:\n",
    "            temp[k] = nums[j]\n",
    "            j += 1\n",
    "            k += 1\n",
    "        for i in range(n):\n",
    "            nums[lo+i] = temp[i]\n",
    "\n",
    "    def merge(self, nums, lo, hi):\n",
    "        if lo<hi:\n",
    "            mid = (lo+hi)//2  # 递归怎么写\n",
    "            self.merge(nums,lo,mid)\n",
    "            self.merge(nums,mid+1,hi)\n",
    "            self.merageTwo(nums, lo,hi)"
   ]
  },
  {
   "cell_type": "raw",
   "metadata": {},
   "source": [
    "执行用时：516 ms, 在所有 Python3 提交中击败了22.42%的用户\n",
    "内存消耗：19.7 MB, 在所有 Python3 提交中击败了97.91%的用户\n",
    "通过测试用例：13 / 13"
   ]
  },
  {
   "cell_type": "markdown",
   "metadata": {},
   "source": [
    "- 时间复杂度 $O(NlogN)$\n",
    "- 空间复杂度 $O(logN)$ 递归过程恰好每次切分中间"
   ]
  },
  {
   "cell_type": "markdown",
   "metadata": {},
   "source": [
    "## 插入排序 "
   ]
  },
  {
   "cell_type": "raw",
   "metadata": {},
   "source": [
    "插入排序 类似于玩PK牌，从第二个元素开始遍历 2022-01-06 运行超时哈，(10/13)"
   ]
  },
  {
   "cell_type": "code",
   "execution_count": null,
   "metadata": {},
   "outputs": [],
   "source": [
    "class Solution:\n",
    "    def sortArray(self, nums: List[int]) -> List[int]:           \n",
    "        # 插入排序 类似于玩PK牌，从第二个元素开始遍历 2022-01-06 运行超时哈，(10/13)\n",
    "        n = len(nums)\n",
    "        for i in range(n):\n",
    "            # temp = nums[i]\n",
    "            j = i\n",
    "            while j>0 and nums[j]<nums[j-1]:\n",
    "                nums[j],nums[j-1] = nums[j-1],nums[j]\n",
    "                j -= 1\n",
    "        return nums"
   ]
  },
  {
   "cell_type": "markdown",
   "metadata": {},
   "source": [
    "## 选择排序 "
   ]
  },
  {
   "cell_type": "raw",
   "metadata": {},
   "source": [
    "选择排序 2022-01-06 第1次选择全局最小的值，第2次选择[1,n-1]中最小值...直到第n-1次 运行超时哈，(10/13)"
   ]
  },
  {
   "cell_type": "code",
   "execution_count": null,
   "metadata": {},
   "outputs": [],
   "source": [
    "class Solution:\n",
    "    def sortArray(self, nums: List[int]) -> List[int]:\n",
    "        # 选择排序 2022-01-06 第1次选择全局最小的值，第2次选择[1,n-1]中最小值...直到第n-1次 运行超时哈，(10/13)\n",
    "        n = len(nums)        \n",
    "        for i in range(n-1):\n",
    "            min_num = nums[i]\n",
    "            indx = i\n",
    "            for j in range(i,n):\n",
    "                if min_num > nums[j]:\n",
    "                    min_num=nums[j]\n",
    "                    indx = j\n",
    "            nums[i],nums[indx] = nums[indx],nums[i]            \n",
    "        return nums"
   ]
  },
  {
   "cell_type": "markdown",
   "metadata": {},
   "source": [
    "## 希尔排序 "
   ]
  },
  {
   "cell_type": "raw",
   "metadata": {},
   "source": [
    "希尔排序是插入排序的变种\n",
    "问：间隔是怎么确定的？"
   ]
  },
  {
   "cell_type": "markdown",
   "metadata": {},
   "source": [
    "1. 希尔排序是将以间隔h进行分组，组内先进行交换，然后减小h，以更小的间隔进行分组饭后在进行组内交换\n",
    "2. 当h减小到1时候，就是插入排序，又因为之前的操作，插入排序交换的次数减小啦\n",
    "3. 希尔排序基于插入排序的改进就是h参数引入：\n",
    "    内循环，希尔排序就是nums[j-h] 和 j-=h"
   ]
  },
  {
   "cell_type": "code",
   "execution_count": null,
   "metadata": {},
   "outputs": [],
   "source": [
    "class Solution:\n",
    "    def sortArray(self, nums: List[int]) -> List[int]:  \n",
    "        # 希尔排序\n",
    "        n = len(nums)\n",
    "        h = n//2 # 间隔确定？\n",
    "        while h:\n",
    "            for i in range(h,n):\n",
    "                self.in_sort(nums, h, i)\n",
    "            h //= 2\n",
    "        return nums\n",
    "\n",
    "    def in_sort(self, nums, h, i):\n",
    "        j = i\n",
    "        while j>=h and nums[j]<nums[j-h]:\n",
    "            nums[j], nums[j-h] = nums[j-h], nums[j]\n",
    "            j -= h"
   ]
  },
  {
   "cell_type": "code",
   "execution_count": null,
   "metadata": {},
   "outputs": [],
   "source": []
  },
  {
   "cell_type": "code",
   "execution_count": null,
   "metadata": {},
   "outputs": [],
   "source": []
  },
  {
   "cell_type": "markdown",
   "metadata": {},
   "source": [
    "# 148.排序链表"
   ]
  },
  {
   "cell_type": "raw",
   "metadata": {},
   "source": [
    "2022.01.01//2022.01.06//\n",
    "\n",
    "1. mid 指的是划分链表 第二个子链表的头结点\n",
    "2. find_mid(head) 寻找mid 结点数n为偶数 mid = n//2 n为奇数 mid = n//2 + 1\n",
    "3. merged(l1, l2) 合并两个链表"
   ]
  },
  {
   "cell_type": "code",
   "execution_count": null,
   "metadata": {},
   "outputs": [],
   "source": [
    "# Definition for singly-linked list.\n",
    "# class ListNode:\n",
    "#     def __init__(self, val=0, next=None):\n",
    "#         self.val = val\n",
    "#         self.next = next\n",
    "class Solution:\n",
    "    def sortList(self, head: Optional[ListNode]) -> Optional[ListNode]:\n",
    "        if not head or not head.next: return head\n",
    "        left_end = self.find_mid(head)\n",
    "        # mid 指的是划分链表 第二个子链表的头结点\n",
    "        mid = left_end.next\n",
    "        left_end.next = None\n",
    "        left, right = self.sortList(head), self.sortList(mid)\n",
    "        return self.merged(left, right)\n",
    "\n",
    "    # 寻找mid 结点数n为偶数 mid = n//2 n为奇数 mid = n//2 + 1\n",
    "    def find_mid(self, head):\n",
    "        if not head or not head.next: return head\n",
    "        slow, fast = head, head.next\n",
    "        while fast and fast.next:\n",
    "            slow = slow.next\n",
    "            fast = fast.next.next\n",
    "        return slow\n",
    "\n",
    "    # 合并两个链表\n",
    "    def merged(self, l1, l2):\n",
    "        head = ListNode(0)\n",
    "        cur = head\n",
    "        while l1 and l2:\n",
    "            if l1.val >= l2.val:\n",
    "                cur.next = l2\n",
    "                l2 = l2.next                \n",
    "            else:\n",
    "                cur.next = l1\n",
    "                l1 = l1.next\n",
    "            cur = cur.next\n",
    "\n",
    "        cur.next = l1 if l1 else l2\n",
    "        return head.next"
   ]
  }
 ],
 "metadata": {
  "kernelspec": {
   "display_name": "Python 3",
   "language": "python",
   "name": "python3"
  },
  "language_info": {
   "codemirror_mode": {
    "name": "ipython",
    "version": 3
   },
   "file_extension": ".py",
   "mimetype": "text/x-python",
   "name": "python",
   "nbconvert_exporter": "python",
   "pygments_lexer": "ipython3",
   "version": "3.7.3"
  }
 },
 "nbformat": 4,
 "nbformat_minor": 2
}
